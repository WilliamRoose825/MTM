{
 "cells": [
  {
   "cell_type": "markdown",
   "id": "17db78cd",
   "metadata": {},
   "source": [
    "# Guide : Mise en place de la documentation Sphinx + CI/CD pour le projet Mangetamain\n",
    "\n",
    "Ce notebook contient toutes les étapes (0 à 14) pour mettre en place la génération et la publication de la documentation du projet Mangetamain."
   ]
  },
  {
   "cell_type": "markdown",
   "id": "e834dec4",
   "metadata": {},
   "source": [
    "## 0) Où travailler\n",
    "- Ouvre un terminal **à la racine du repo git** (ex. `~/projects/mangetamain`)."
   ]
  },
  {
   "cell_type": "markdown",
   "id": "569498e8",
   "metadata": {},
   "source": [
    "## 1) Ajouter les dépendances docs dans `pyproject.toml`\n",
    "**Où** : fichier `pyproject.toml` (racine)\n",
    "\n",
    "```toml\n",
    "[tool.uv.dependencies.docs]\n",
    "sphinx = \">=7.0.0\"\n",
    "sphinx-rtd-theme = \"*\"\n",
    "sphinx-autodoc-typehints = \"*\"\n",
    "sphinxcontrib-napoleon = \"*\"\n",
    "```\n",
    "(Si tu utilises `poetry`, mets-les dans `[tool.poetry.group.docs.dependencies]`)."
   ]
  },
  {
   "cell_type": "markdown",
   "id": "540a6a71",
   "metadata": {},
   "source": [
    "## 2) Installer `uv` et les dépendances docs\n",
    "**Où** : terminal\n",
    "\n",
    "```bash\n",
    "pip install --user uv       # si uv pas déjà installé\n",
    "uv sync --group docs\n",
    "```"
   ]
  },
  {
   "cell_type": "markdown",
   "id": "c893c9ac",
   "metadata": {},
   "source": [
    "## 3) Initialiser Sphinx\n",
    "**Où** : terminal (racine)\n",
    "\n",
    "```bash\n",
    "uv run sphinx-quickstart -q -p \"Mangetamain\" -a \"Equipe Mangetamain\" -v \"0.1.0\" docs\n",
    "```\n",
    "\n",
    "Cela crée le dossier `docs/` avec `conf.py`, `index.rst`, etc."
   ]
  },
  {
   "cell_type": "markdown",
   "id": "33de6b1b",
   "metadata": {},
   "source": [
    "## 4) Configurer `docs/conf.py`\n",
    "**Où** : éditeur → `docs/conf.py`\n",
    "\n",
    "```python\n",
    "import os\n",
    "import sys\n",
    "sys.path.insert(0, os.path.abspath(\"../src\"))\n",
    "\n",
    "project = \"Mangetamain\"\n",
    "author = \"Equipe Mangetamain\"\n",
    "release = \"0.1.0\"\n",
    "\n",
    "extensions = [\n",
    "    \"sphinx.ext.autodoc\",\n",
    "    \"sphinx.ext.napoleon\",\n",
    "    \"sphinx.ext.viewcode\",\n",
    "    \"sphinx_autodoc_typehints\",\n",
    "    \"sphinx.ext.autosummary\",\n",
    "]\n",
    "\n",
    "autosummary_generate = True\n",
    "html_theme = \"sphinx_rtd_theme\"\n",
    "```"
   ]
  },
  {
   "cell_type": "markdown",
   "id": "24ad96f6",
   "metadata": {},
   "source": [
    "## 5) Rédiger les docstrings dans ton code\n",
    "**Où** : fichiers Python sous `src/`\n",
    "\n",
    "Exemple :\n",
    "\n",
    "```python\n",
    "def score_recipe(ingredients: list[str], time_min: int) -> float:\n",
    "    \"\"\"\n",
    "    Calcule un score de recette.\n",
    "\n",
    "    Args:\n",
    "        ingredients (list[str]): liste des ingrédients.\n",
    "        time_min (int): temps de préparation en minutes.\n",
    "\n",
    "    Returns:\n",
    "        float: score estimé entre 0 et 1.\n",
    "    \"\"\"\n",
    "```"
   ]
  },
  {
   "cell_type": "markdown",
   "id": "92b8644f",
   "metadata": {},
   "source": [
    "## 6) Générer automatiquement les fichiers `.rst`\n",
    "**Où** : terminal\n",
    "\n",
    "```bash\n",
    "uv run sphinx-apidoc -o docs/ src/ --separate --module-first\n",
    "```"
   ]
  },
  {
   "cell_type": "markdown",
   "id": "90d598ac",
   "metadata": {},
   "source": [
    "## 7) Construire la doc HTML localement\n",
    "**Où** : terminal\n",
    "\n",
    "```bash\n",
    "uv run sphinx-build -b html docs/ docs/_build/html\n",
    "```\n",
    "Puis ouvre `docs/_build/html/index.html` dans un navigateur.\n",
    "\n",
    "Optionnel :\n",
    "\n",
    "```bash\n",
    "uv run pip install sphinx-autobuild\n",
    "uv run sphinx-autobuild docs/ docs/_build/html\n",
    "```"
   ]
  },
  {
   "cell_type": "markdown",
   "id": "4de31fbd",
   "metadata": {},
   "source": [
    "## 8) Ajouter un job \"docs build\" dans la CI\n",
    "**Où** : fichier `.github/workflows/docs.yml`\n",
    "\n",
    "```yaml\n",
    "name: Docs\n",
    "\n",
    "on:\n",
    "  push:\n",
    "    branches: [\"main\"]\n",
    "  pull_request:\n",
    "    branches: [\"main\"]\n",
    "\n",
    "jobs:\n",
    "  build-docs:\n",
    "    runs-on: ubuntu-latest\n",
    "    steps:\n",
    "      - uses: actions/checkout@v4\n",
    "      - uses: actions/setup-python@v5\n",
    "        with:\n",
    "          python-version: \"3.11\"\n",
    "      - run: pip install uv\n",
    "      - run: uv sync --group docs\n",
    "      - run: uv run sphinx-build -b html docs/ docs/_build/html\n",
    "```"
   ]
  },
  {
   "cell_type": "markdown",
   "id": "87e6c22a",
   "metadata": {},
   "source": [
    "## 9) Déployer la doc sur GitHub Pages\n",
    "**Où** : fichier `.github/workflows/publish-docs.yml`\n",
    "\n",
    "```yaml\n",
    "name: Publish docs\n",
    "\n",
    "on:\n",
    "  push:\n",
    "    branches: [\"main\"]\n",
    "\n",
    "jobs:\n",
    "  publish:\n",
    "    runs-on: ubuntu-latest\n",
    "    steps:\n",
    "      - uses: actions/checkout@v4\n",
    "        with:\n",
    "          persist-credentials: false\n",
    "      - uses: actions/setup-python@v5\n",
    "        with:\n",
    "          python-version: \"3.11\"\n",
    "      - run: pip install uv\n",
    "      - run: uv sync --group docs\n",
    "      - run: uv run sphinx-build -b html docs/ docs/_build/html\n",
    "      - name: Deploy to GitHub Pages\n",
    "        uses: peaceiris/actions-gh-pages@v4\n",
    "        with:\n",
    "          github_token: ${{ secrets.GITHUB_TOKEN }}\n",
    "          publish_dir: ./docs/_build/html\n",
    "```"
   ]
  },
  {
   "cell_type": "markdown",
   "id": "41ce0ef5",
   "metadata": {},
   "source": [
    "## 10) Intégrer la vérification docs dans la CI principale\n",
    "Ajoute un step `uv run sphinx-build` à la fin du job `lint-test` dans `.github/workflows/ci.yml`."
   ]
  },
  {
   "cell_type": "markdown",
   "id": "291dde59",
   "metadata": {},
   "source": [
    "## 11) CI pour lint (ruff) et tests (pytest)\n",
    "**Où** : fichier `.github/workflows/ci.yml`\n",
    "\n",
    "```yaml\n",
    "name: CI\n",
    "\n",
    "on:\n",
    "  push:\n",
    "    branches: [\"main\"]\n",
    "  pull_request:\n",
    "    branches: [\"main\"]\n",
    "\n",
    "jobs:\n",
    "  lint-test:\n",
    "    runs-on: ubuntu-latest\n",
    "    steps:\n",
    "      - uses: actions/checkout@v4\n",
    "      - uses: actions/setup-python@v5\n",
    "        with:\n",
    "          python-version: \"3.11\"\n",
    "      - run: pip install uv\n",
    "      - run: uv sync --group dev\n",
    "      - run: uv run ruff check .\n",
    "      - run: uv run pytest --cov=src --cov-report=xml --cov-report=term --cov-fail-under=90\n",
    "```"
   ]
  },
  {
   "cell_type": "markdown",
   "id": "617a94d9",
   "metadata": {},
   "source": [
    "## 12) Commit et push\n",
    "```bash\n",
    "git add .\n",
    "git commit -m \"Add Sphinx docs and CI workflows\"\n",
    "git push origin main\n",
    "```"
   ]
  },
  {
   "cell_type": "markdown",
   "id": "bf0703e0",
   "metadata": {},
   "source": [
    "## 13) Bonnes pratiques\n",
    "- Ajouter un lien vers la doc dans le `README.md`\n",
    "- Écrire des pages `.rst` (guides, how-to) dans `docs/`\n",
    "- Utiliser `autodoc_mock_imports` si certaines libs sont trop lourdes\n",
    "- Ajouter des badges CI et Pages dans le README"
   ]
  },
  {
   "cell_type": "markdown",
   "id": "05e4bdb2",
   "metadata": {},
   "source": [
    "## 14) Checklist\n",
    "- [ ] `pyproject.toml` mis à jour avec dépendances docs/dev  \n",
    "- [ ] `docs/` créé, `conf.py` configuré  \n",
    "- [ ] Docstrings écrits dans `src/`  \n",
    "- [ ] Génération locale OK (`sphinx-build`)  \n",
    "- [ ] CI docs OK (job passe)  \n",
    "- [ ] Pages déployées sur GitHub Pages  \n",
    "- [ ] README contient le lien vers la doc  "
   ]
  }
 ],
 "metadata": {},
 "nbformat": 4,
 "nbformat_minor": 5
}
